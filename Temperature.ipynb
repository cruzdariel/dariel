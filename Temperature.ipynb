{
 "cells": [
  {
   "cell_type": "code",
   "execution_count": 1,
   "id": "ce5f4514-6d33-4c6f-9f9d-94c70f2000cd",
   "metadata": {},
   "outputs": [
    {
     "name": "stderr",
     "output_type": "stream",
     "text": [
      "IOPub data rate exceeded.\n",
      "The Jupyter server will temporarily stop sending output\n",
      "to the client in order to avoid crashing it.\n",
      "To change this limit, set the config variable\n",
      "`--ServerApp.iopub_data_rate_limit`.\n",
      "\n",
      "Current values:\n",
      "ServerApp.iopub_data_rate_limit=1000000.0 (bytes/sec)\n",
      "ServerApp.rate_limit_window=3.0 (secs)\n",
      "\n"
     ]
    },
    {
     "name": "stdout",
     "output_type": "stream",
     "text": [
      "       y_lat     x_long       date  tavg\n",
      "0  19.451311 -154.93402  3/20/2002  None\n",
      "1  19.451311 -154.93402  3/20/2002  None\n",
      "2  19.451311 -154.93402  3/20/2002  None\n",
      "3  19.451311 -154.93402  3/20/2002  None\n",
      "4  19.451311 -154.93402  3/20/2002  None\n"
     ]
    }
   ],
   "source": [
    "import pandas as pd\n",
    "from meteostat import Point, Daily\n",
    "from datetime import datetime\n",
    "\n",
    "# Load the CSV file\n",
    "data = pd.read_csv('mosquito3.csv')\n",
    "\n",
    "# Function to fetch weather data\n",
    "def fetch_weather_data(lat, lon, date):\n",
    "    try:\n",
    "        location = Point(lat, lon)\n",
    "        date_time_obj = datetime.strptime(date.split('T')[0], '%m-%d-%y')\n",
    "        data = Daily(location, date_time_obj, date_time_obj)\n",
    "        data = data.fetch()\n",
    "        return data['tavg'].mean() if not data.empty else None\n",
    "    except Exception as e:\n",
    "        print(f\"Error processing data for {lat}, {lon}, {date}: {e}\")\n",
    "        return None\n",
    "\n",
    "# Apply the function to each row in the DataFrame\n",
    "data['tavg'] = data.apply(lambda row: fetch_weather_data(row['y_lat'], row['x_long'], row['date']), axis=1)\n",
    "\n",
    "# Save or display the results\n",
    "data.to_csv('mosquito33.csv', index=False)\n",
    "print(data[['y_lat', 'x_long', 'date', 'tavg']].head())"
   ]
  }
 ],
 "metadata": {
  "kernelspec": {
   "display_name": "Python 3 (ipykernel)",
   "language": "python",
   "name": "python3"
  },
  "language_info": {
   "codemirror_mode": {
    "name": "ipython",
    "version": 3
   },
   "file_extension": ".py",
   "mimetype": "text/x-python",
   "name": "python",
   "nbconvert_exporter": "python",
   "pygments_lexer": "ipython3",
   "version": "3.11.7"
  }
 },
 "nbformat": 4,
 "nbformat_minor": 5
}
